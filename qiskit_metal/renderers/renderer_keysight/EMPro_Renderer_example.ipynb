{
 "cells": [
  {
   "cell_type": "markdown",
   "id": "59ee5d55",
   "metadata": {},
   "source": [
    "To get started, enable [automatic reloading of modules] (https://ipython.readthedocs.io/en/stable/config/extensions/autoreload.html?highlight=autoreload). This will allow you to modify the source code and immediately observe the effects of the changes in the notebook, without the need for reinitiating the kernel or reinstalling the package."
   ]
  },
  {
   "cell_type": "code",
   "execution_count": null,
   "id": "eb2558ed",
   "metadata": {},
   "outputs": [],
   "source": [
    "%load_ext autoreload\n",
    "%autoreload 2"
   ]
  },
  {
   "cell_type": "markdown",
   "id": "7d258300",
   "metadata": {},
   "source": [
    "Pre-load all the Qiskit Metal libraries that are needed for the rest of this notebook."
   ]
  },
  {
   "cell_type": "code",
   "execution_count": null,
   "id": "c3f46b3e",
   "metadata": {},
   "outputs": [],
   "source": [
    "import qiskit_metal as metal\n",
    "from qiskit_metal import designs, draw\n",
    "from qiskit_metal import MetalGUI, Dict, Headings\n",
    "\n",
    "from qiskit_metal.qlibrary.qubits.transmon_pocket import TransmonPocket\n",
    "from qiskit_metal.qlibrary.qubits.transmon_cross import TransmonCross\n",
    "\n",
    "from qiskit_metal.renderers.renderer_gds.gds_renderer import QGDSRenderer"
   ]
  },
  {
   "cell_type": "markdown",
   "id": "c87b63ff",
   "metadata": {},
   "source": [
    "### Confirm QDesign is able to load your renderer\n",
    "Create a QDesign instance."
   ]
  },
  {
   "cell_type": "code",
   "execution_count": null,
   "id": "4a6dce73",
   "metadata": {},
   "outputs": [],
   "source": [
    "design = designs.DesignPlanar()"
   ]
  },
  {
   "cell_type": "markdown",
   "id": "d05c6752",
   "metadata": {},
   "source": [
    "Ensure the EMPro renderer is initiated."
   ]
  },
  {
   "cell_type": "code",
   "execution_count": null,
   "id": "d5da7b42",
   "metadata": {},
   "outputs": [],
   "source": [
    "design.renderers.keys()"
   ]
  },
  {
   "cell_type": "markdown",
   "id": "f411c502",
   "metadata": {},
   "source": [
    "For convenience, let's create a short-handle alias to refer to the renderer during the remainder of this notebook."
   ]
  },
  {
   "cell_type": "code",
   "execution_count": null,
   "id": "cbd41d58",
   "metadata": {},
   "outputs": [],
   "source": [
    "a_empro = design.renderers.empro"
   ]
  },
  {
   "cell_type": "markdown",
   "id": "ab8ffc23",
   "metadata": {},
   "source": [
    "Play around with the renderer by modifying the default options."
   ]
  },
  {
   "cell_type": "code",
   "execution_count": null,
   "id": "30735b01",
   "metadata": {},
   "outputs": [],
   "source": [
    "a_empro.options.height = '30.0'\n",
    "a_empro.options"
   ]
  },
  {
   "cell_type": "markdown",
   "id": "b749fcbb",
   "metadata": {},
   "source": [
    "Original values will continue being accessible like so:"
   ]
  },
  {
   "cell_type": "code",
   "execution_count": null,
   "id": "5d263bdc",
   "metadata": {},
   "outputs": [],
   "source": [
    "a_empro.get_template_options(design)"
   ]
  },
  {
   "cell_type": "markdown",
   "id": "81f71c1a",
   "metadata": {},
   "source": [
    "### Populate a sample QDesign to demonstrate interaction with the renderer"
   ]
  },
  {
   "cell_type": "code",
   "execution_count": null,
   "id": "0f1ffb63",
   "metadata": {},
   "outputs": [],
   "source": [
    "gui = MetalGUI(design)\n",
    "design.overwrite_enabled = True\n",
    "\n",
    "from qiskit_metal.qlibrary.qubits.transmon_pocket import TransmonPocket\n",
    "from qiskit_metal.qlibrary.tlines.meandered import RouteMeander"
   ]
  },
  {
   "cell_type": "code",
   "execution_count": null,
   "id": "ad46a262",
   "metadata": {},
   "outputs": [],
   "source": [
    "## Custom options for all the transmons\n",
    "options = dict(\n",
    "    pad_width = '425 um',\n",
    "    pad_gap = '80 um',\n",
    "    pocket_height = '650um',\n",
    "    # Adding 4 connectors (see below for defaults)\n",
    "    connection_pads=dict( \n",
    "        a = dict(loc_W=+1,loc_H=+1), \n",
    "        b = dict(loc_W=-1,loc_H=+1, pad_height='30um'),\n",
    "        c = dict(loc_W=+1,loc_H=-1, pad_width='200um'),\n",
    "        d = dict(loc_W=-1,loc_H=-1, pad_height='50um')\n",
    "    )\n",
    ")\n",
    "\n",
    "## Create 4 TransmonPockets\n",
    "q1 = TransmonPocket(design, 'Q1', options = dict(\n",
    "    pos_x='+2.55mm', pos_y='+0.0mm', gds_cell_name='FakeJunction_02', **options))\n",
    "q2 = TransmonPocket(design, 'Q2', options = dict(\n",
    "    pos_x='+0.0mm', pos_y='-0.9mm', orientation = '90', gds_cell_name='FakeJunction_02', **options))\n",
    "q3 = TransmonPocket(design, 'Q3', options = dict(\n",
    "    pos_x='-2.55mm', pos_y='+0.0mm', gds_cell_name='FakeJunction_01',**options))\n",
    "q4 = TransmonPocket(design, 'Q4', options = dict(\n",
    "    pos_x='+0.0mm', pos_y='+0.9mm', orientation = '90', gds_cell_name='my_other_junction', **options))\n",
    "\n",
    "options = Dict(\n",
    "    meander=Dict(\n",
    "        lead_start='0.1mm',\n",
    "        lead_end='0.1mm',\n",
    "        asymmetry='0 um')\n",
    ")\n",
    "\n",
    "def connect(component_name: str, component1: str, pin1: str, component2: str, pin2: str,\n",
    "            length: str, asymmetry='0 um', flip=False, fillet='50um'):\n",
    "    \"\"\"Connect two pins with a CPW.\"\"\"\n",
    "    myoptions = Dict(\n",
    "        fillet=fillet,\n",
    "        pin_inputs=Dict(\n",
    "            start_pin=Dict(\n",
    "                component=component1,\n",
    "                pin=pin1),\n",
    "            end_pin=Dict(\n",
    "                component=component2,\n",
    "                pin=pin2)),\n",
    "        lead=Dict(\n",
    "            start_straight='0.13mm',\n",
    "            end_straight='0.13mm'\n",
    "        ),\n",
    "        total_length=length)\n",
    "    myoptions.update(options)\n",
    "    myoptions.meander.asymmetry = asymmetry\n",
    "    myoptions.meander.lead_direction_inverted = 'true' if flip else 'false'\n",
    "    return RouteMeander(design, component_name, myoptions)\n",
    "\n",
    "asym = 90\n",
    "cpw1 = connect('cpw1', 'Q1', 'd', 'Q2', 'c', '5.7 mm', f'+{asym}um', fillet='25um')\n",
    "cpw2 = connect('cpw2', 'Q3', 'c', 'Q2', 'a', '5.6 mm', f'-{asym}um', flip=True, fillet='100um')\n",
    "cpw3 = connect('cpw3', 'Q3', 'a', 'Q4', 'b', '5.5 mm', f'+{asym}um', fillet='75um')\n",
    "cpw4 = connect('cpw4', 'Q1', 'b', 'Q4', 'd', '5.8 mm', f'-{asym}um', flip=True)\n",
    "\n",
    "gui.rebuild()\n",
    "gui.autoscale()"
   ]
  },
  {
   "cell_type": "markdown",
   "id": "11870ec6",
   "metadata": {},
   "source": [
    "### Export list of the design QGeometries to file using QEMProRenderer\n",
    "The QEMProRenderer class contains several methods. Let's use one intended to print out the name of the QGeometry tables to a text file (Remember: QGeometry contains the list of the raw layout shapes that compose the design, which we have created in the previous cell)."
   ]
  },
  {
   "cell_type": "code",
   "execution_count": null,
   "id": "2b7b3376",
   "metadata": {},
   "outputs": [],
   "source": [
    "a_empro.write_qgeometry_table_names_to_file('./simple_output.txt')"
   ]
  },
  {
   "cell_type": "markdown",
   "id": "75a248ae",
   "metadata": {},
   "source": [
    "Here another example where we sub select a single QComponent instance (`cpw1`) of type RouteMeander.  This will only export the name of tables containing shapes related to that instance, which in this case is only paths, and not junctions or poly."
   ]
  },
  {
   "cell_type": "code",
   "execution_count": null,
   "id": "bbd186f8",
   "metadata": {},
   "outputs": [],
   "source": [
    "a_empro.write_qgeometry_table_names_to_file('./simple_output_cpw1.txt',highlight_qcomponents=['cpw1'])"
   ]
  },
  {
   "cell_type": "markdown",
   "id": "7e320aaa",
   "metadata": {},
   "source": [
    "### Adding columns to the renderer"
   ]
  },
  {
   "cell_type": "code",
   "execution_count": null,
   "id": "b5f8123b",
   "metadata": {},
   "outputs": [],
   "source": [
    "design.qgeometry.tables['junction']"
   ]
  },
  {
   "cell_type": "code",
   "execution_count": null,
   "id": "5ca6f5db",
   "metadata": {},
   "outputs": [],
   "source": [
    "q1.options.empro_a_column_name = 'q1 empro'\n",
    "q2.options.empro_a_column_name = 'q2 empro'\n",
    "q3.options.empro_a_column_name = 'q3 empro'\n",
    "q4.options.empro_a_column_name = 'q4 empro'\n",
    "\n",
    "gui.rebuild()\n",
    "gui.autoscale()\n",
    "\n",
    "design.qgeometry.tables['junction']"
   ]
  },
  {
   "cell_type": "markdown",
   "id": "a42e1850",
   "metadata": {},
   "source": [
    "We can also delete components"
   ]
  },
  {
   "cell_type": "code",
   "execution_count": null,
   "id": "e2f62d08",
   "metadata": {},
   "outputs": [],
   "source": [
    "q1.delete()\n",
    "q2.delete()\n",
    "q3.delete()\n",
    "q4.delete()\n",
    "\n",
    "q1 = TransmonPocket(design, 'Q1', options = dict(\n",
    "    pos_x='+2.55mm', pos_y='+0.0mm', gds_cell_name='FakeJunction_02', empro_a_column_name='q1 empro 2', **options))\n",
    "q2 = TransmonPocket(design, 'Q2', options = dict(\n",
    "    pos_x='+0.0mm', pos_y='-0.9mm', orientation = '90', gds_cell_name='FakeJunction_02', empro_a_column_name='q2 empro 2', **options))\n",
    "q3 = TransmonPocket(design, 'Q3', options = dict(\n",
    "    pos_x='-2.55mm', pos_y='+0.0mm', gds_cell_name='FakeJunction_01', empro_a_column_name='q3 empro 2', **options))\n",
    "q4 = TransmonPocket(design, 'Q4', options = dict(\n",
    "    pos_x='+0.0mm', pos_y='+0.9mm', orientation = '90', gds_cell_name='my_other_junction', empro_a_column_name='q4 empro 2', **options))\n",
    "\n",
    "design.qgeometry.tables['junction']"
   ]
  },
  {
   "cell_type": "markdown",
   "id": "ae4797ee",
   "metadata": {},
   "source": [
    "### Accessing information and methods"
   ]
  },
  {
   "cell_type": "code",
   "execution_count": null,
   "id": "8d7e57fe",
   "metadata": {},
   "outputs": [],
   "source": [
    "a_empro.design.components.keys()"
   ]
  },
  {
   "cell_type": "code",
   "execution_count": null,
   "id": "d4e38b8a",
   "metadata": {},
   "outputs": [],
   "source": [
    "a_empro.design.qgeometry.tables.keys()"
   ]
  },
  {
   "cell_type": "code",
   "execution_count": null,
   "id": "468e0861",
   "metadata": {},
   "outputs": [],
   "source": [
    "a_empro.design.renderers.keys()"
   ]
  },
  {
   "cell_type": "markdown",
   "id": "17871c87",
   "metadata": {},
   "source": [
    "The base QRenderer class comes with useful methods to more easily access some of the information. You will find more method described in the QRenderer documentation. The example below for example returns the QComponent's IDs."
   ]
  },
  {
   "cell_type": "code",
   "execution_count": null,
   "id": "1adbfd95",
   "metadata": {},
   "outputs": [],
   "source": [
    "a_empro.get_unique_component_ids(highlight_qcomponents = ['Q1', 'Q1', 'Q4', 'cpw1', 'cpw2', 'cpw3', 'cpw4'])"
   ]
  },
  {
   "cell_type": "markdown",
   "id": "3a86110a",
   "metadata": {},
   "source": [
    "The following instead shows three ways to access the same QGeometry table."
   ]
  },
  {
   "cell_type": "code",
   "execution_count": null,
   "id": "4fc5d6c4",
   "metadata": {},
   "outputs": [],
   "source": [
    "a_empro.design.components['Q1'].qgeometry_table('junction') # via QComonent name\n",
    "a_empro.design._components[9].qgeometry_table('junction') # via QComponent ID\n",
    "q1.qgeometry_table('junction') # via the QComponent instance"
   ]
  },
  {
   "cell_type": "markdown",
   "id": "45f9edd7",
   "metadata": {},
   "source": [
    "The method `QEMProRenderer.get_qgeometry_tables_for_empro()` exemplifies how to iterate through chips and tables."
   ]
  },
  {
   "cell_type": "code",
   "execution_count": null,
   "id": "3df6c1f9",
   "metadata": {},
   "outputs": [],
   "source": [
    "from qiskit_metal.renderers.renderer_keysight.empro_renderer import QEMProRenderer\n",
    "?QEMProRenderer.get_qgeometry_tables_for_empro"
   ]
  },
  {
   "cell_type": "markdown",
   "id": "8e2856f1",
   "metadata": {},
   "source": [
    "### Communicate state\n",
    "We can also interact with any other method of the QDesign instance, for example we can generate a warning into the logger as shown in the next cell.  This is particularly useful to document problems with the user defined QRenderer execution"
   ]
  },
  {
   "cell_type": "code",
   "execution_count": null,
   "id": "96fc8ffd",
   "metadata": {},
   "outputs": [],
   "source": [
    "# Purposefully generates a warning message.  \n",
    "a_empro.logger.warning('Show a warning message for plugin developer.')"
   ]
  },
  {
   "cell_type": "markdown",
   "id": "f6c501f2",
   "metadata": {},
   "source": [
    "## Qiskit Metal Version"
   ]
  },
  {
   "cell_type": "code",
   "execution_count": null,
   "id": "a39ad111",
   "metadata": {},
   "outputs": [],
   "source": [
    "metal.about();"
   ]
  },
  {
   "cell_type": "code",
   "execution_count": null,
   "id": "818253f4",
   "metadata": {},
   "outputs": [],
   "source": [
    "# This command below is if the user wants to close the Metal GUI.\n",
    "gui.main_window.close()"
   ]
  }
 ],
 "metadata": {
  "kernelspec": {
   "display_name": "Python 3 (ipykernel)",
   "language": "python",
   "name": "python3"
  },
  "language_info": {
   "codemirror_mode": {
    "name": "ipython",
    "version": 3
   },
   "file_extension": ".py",
   "mimetype": "text/x-python",
   "name": "python",
   "nbconvert_exporter": "python",
   "pygments_lexer": "ipython3",
   "version": "3.9.7"
  }
 },
 "nbformat": 4,
 "nbformat_minor": 5
}
